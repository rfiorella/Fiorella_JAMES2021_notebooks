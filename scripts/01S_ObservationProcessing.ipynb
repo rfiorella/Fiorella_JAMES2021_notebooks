{
 "cells": [
  {
   "cell_type": "markdown",
   "id": "upper-oregon",
   "metadata": {},
   "source": [
    "# Process BEST temps to get into a figure"
   ]
  },
  {
   "cell_type": "code",
   "execution_count": 1,
   "id": "stuffed-limit",
   "metadata": {},
   "outputs": [],
   "source": [
    "# set up packages and data\n",
    "from datetime import timedelta\n",
    "import matplotlib.pyplot as plt\n",
    "import matplotlib as mpl\n",
    "import matplotlib.gridspec as gridspec\n",
    "import numpy as np\n",
    "import pandas as pd\n",
    "import xarray as xr\n",
    "import cartopy.crs as ccrs\n",
    "import cartopy\n",
    "from cftime import DatetimeNoLeap"
   ]
  },
  {
   "cell_type": "code",
   "execution_count": 15,
   "id": "british-westminster",
   "metadata": {},
   "outputs": [],
   "source": [
    "ds = xr.open_dataset(\"~/Dropbox/tagging_analysis/obs/best/Land_and_Ocean_LatLong1.nc\", decode_timedelta = False)\n",
    "\n",
    "# select anomalies from temperature from 1980-1999\n",
    "anom = ds.sel(time=slice(1980,2000))\n",
    "\n",
    "# calculate time mean of anom and of climatology.\n",
    "anom_mean = anom.temperature.mean(dim='time')\n",
    "\n",
    "clim_mean = ds.climatology.mean(dim='month_number')\n",
    "\n",
    "mean_tmp = clim_mean + anom_mean + 273.15\n",
    "\n",
    "mean_tmp.to_netcdf('obs/best/best_19801999avg.nc')\n"
   ]
  }
 ],
 "metadata": {
  "kernelspec": {
   "display_name": "Python 3",
   "language": "python",
   "name": "python3"
  },
  "language_info": {
   "codemirror_mode": {
    "name": "ipython",
    "version": 3
   },
   "file_extension": ".py",
   "mimetype": "text/x-python",
   "name": "python",
   "nbconvert_exporter": "python",
   "pygments_lexer": "ipython3",
   "version": "3.7.9"
  }
 },
 "nbformat": 4,
 "nbformat_minor": 5
}
